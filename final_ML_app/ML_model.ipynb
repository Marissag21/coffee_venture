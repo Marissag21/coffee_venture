{
 "cells": [
  {
   "cell_type": "code",
   "execution_count": 39,
   "metadata": {},
   "outputs": [],
   "source": [
    "#Import dependencies\n",
    "import pandas as pd\n",
    "from sklearn.preprocessing import MinMaxScaler\n",
    "from sklearn.model_selection import train_test_split\n",
    "from sklearn.metrics import confusion_matrix, accuracy_score, classification_report\n",
    "from sklearn.linear_model import LogisticRegression\n",
    "from imblearn.over_sampling import RandomOverSampler\n",
    "import pickle"
   ]
  },
  {
   "cell_type": "code",
   "execution_count": 40,
   "metadata": {},
   "outputs": [
    {
     "data": {
      "text/html": [
       "<div>\n",
       "<style scoped>\n",
       "    .dataframe tbody tr th:only-of-type {\n",
       "        vertical-align: middle;\n",
       "    }\n",
       "\n",
       "    .dataframe tbody tr th {\n",
       "        vertical-align: top;\n",
       "    }\n",
       "\n",
       "    .dataframe thead th {\n",
       "        text-align: right;\n",
       "    }\n",
       "</style>\n",
       "<table border=\"1\" class=\"dataframe\">\n",
       "  <thead>\n",
       "    <tr style=\"text-align: right;\">\n",
       "      <th></th>\n",
       "      <th>title</th>\n",
       "      <th>rating</th>\n",
       "      <th>acidity_structure</th>\n",
       "      <th>aftertaste</th>\n",
       "      <th>aroma</th>\n",
       "      <th>body</th>\n",
       "      <th>flavor</th>\n",
       "      <th>blind_assessment</th>\n",
       "      <th>coffee_origin</th>\n",
       "      <th>notes</th>\n",
       "      <th>roast_level</th>\n",
       "      <th>city</th>\n",
       "      <th>state</th>\n",
       "      <th>usd_per_oz</th>\n",
       "    </tr>\n",
       "  </thead>\n",
       "  <tbody>\n",
       "    <tr>\n",
       "      <th>0</th>\n",
       "      <td>Bolivia Manantial Gesha</td>\n",
       "      <td>93.0</td>\n",
       "      <td>9.0</td>\n",
       "      <td>8.0</td>\n",
       "      <td>9.0</td>\n",
       "      <td>8.0</td>\n",
       "      <td>9.0</td>\n",
       "      <td>Richly aromatic, floral-toned. Magnolia, cocoa...</td>\n",
       "      <td>Caranavi, Bolivia</td>\n",
       "      <td>Produced by Angel Mamani Chambi, entirely of t...</td>\n",
       "      <td>Medium-Light</td>\n",
       "      <td>Floyd</td>\n",
       "      <td>Virginia</td>\n",
       "      <td>2.50</td>\n",
       "    </tr>\n",
       "    <tr>\n",
       "      <th>1</th>\n",
       "      <td>Yellow Pacamara Carbonic Maceration Nanolot</td>\n",
       "      <td>92.0</td>\n",
       "      <td>8.0</td>\n",
       "      <td>8.0</td>\n",
       "      <td>9.0</td>\n",
       "      <td>8.0</td>\n",
       "      <td>9.0</td>\n",
       "      <td>Crisply sweet-savory. White peach, hop flowers...</td>\n",
       "      <td>Matagalpa growing region, Nicaragua</td>\n",
       "      <td>Produced by Benjamin Weiner at Finca Idealista...</td>\n",
       "      <td>Medium-Light</td>\n",
       "      <td>Cleveland</td>\n",
       "      <td>Ohio</td>\n",
       "      <td>13.33</td>\n",
       "    </tr>\n",
       "    <tr>\n",
       "      <th>2</th>\n",
       "      <td>Ethiopia Gera Genji Challa</td>\n",
       "      <td>94.0</td>\n",
       "      <td>9.0</td>\n",
       "      <td>8.0</td>\n",
       "      <td>9.0</td>\n",
       "      <td>9.0</td>\n",
       "      <td>9.0</td>\n",
       "      <td>Delicately aromatic, complex. Lilac, cocoa nib...</td>\n",
       "      <td>Agaro Gera, Jimma Zone, Oromia State, Ethiopia</td>\n",
       "      <td>Ethiopia coffees like this one are largely pro...</td>\n",
       "      <td>Medium-Light</td>\n",
       "      <td>San Diego</td>\n",
       "      <td>California</td>\n",
       "      <td>2.33</td>\n",
       "    </tr>\n",
       "    <tr>\n",
       "      <th>3</th>\n",
       "      <td>Yirgacheffe Mengesha Natural</td>\n",
       "      <td>94.0</td>\n",
       "      <td>9.0</td>\n",
       "      <td>8.0</td>\n",
       "      <td>9.0</td>\n",
       "      <td>9.0</td>\n",
       "      <td>9.0</td>\n",
       "      <td>High-toned, fruit-driven. Boysenberry, pear, c...</td>\n",
       "      <td>Yirgacheffe growing region, southern Ethiopia</td>\n",
       "      <td>Produced at Mengesha Farm from selections of i...</td>\n",
       "      <td>Medium-Light</td>\n",
       "      <td>Glendale</td>\n",
       "      <td>California</td>\n",
       "      <td>1.71</td>\n",
       "    </tr>\n",
       "    <tr>\n",
       "      <th>4</th>\n",
       "      <td>Tropical Summer Colombia La Sierra</td>\n",
       "      <td>93.0</td>\n",
       "      <td>9.0</td>\n",
       "      <td>8.0</td>\n",
       "      <td>9.0</td>\n",
       "      <td>8.0</td>\n",
       "      <td>9.0</td>\n",
       "      <td>Fruit-driven, crisply chocolaty. Goji berry, d...</td>\n",
       "      <td>La Sierra, Cauca Department, Colombia</td>\n",
       "      <td>Produced by smallholding farmers from trees of...</td>\n",
       "      <td>Medium-Light</td>\n",
       "      <td>Harrisonburg</td>\n",
       "      <td>Virginia</td>\n",
       "      <td>2.37</td>\n",
       "    </tr>\n",
       "  </tbody>\n",
       "</table>\n",
       "</div>"
      ],
      "text/plain": [
       "                                         title  rating  acidity_structure  \\\n",
       "0                      Bolivia Manantial Gesha    93.0                9.0   \n",
       "1  Yellow Pacamara Carbonic Maceration Nanolot    92.0                8.0   \n",
       "2                   Ethiopia Gera Genji Challa    94.0                9.0   \n",
       "3                 Yirgacheffe Mengesha Natural    94.0                9.0   \n",
       "4           Tropical Summer Colombia La Sierra    93.0                9.0   \n",
       "\n",
       "   aftertaste  aroma  body  flavor  \\\n",
       "0         8.0    9.0   8.0     9.0   \n",
       "1         8.0    9.0   8.0     9.0   \n",
       "2         8.0    9.0   9.0     9.0   \n",
       "3         8.0    9.0   9.0     9.0   \n",
       "4         8.0    9.0   8.0     9.0   \n",
       "\n",
       "                                    blind_assessment  \\\n",
       "0  Richly aromatic, floral-toned. Magnolia, cocoa...   \n",
       "1  Crisply sweet-savory. White peach, hop flowers...   \n",
       "2  Delicately aromatic, complex. Lilac, cocoa nib...   \n",
       "3  High-toned, fruit-driven. Boysenberry, pear, c...   \n",
       "4  Fruit-driven, crisply chocolaty. Goji berry, d...   \n",
       "\n",
       "                                    coffee_origin  \\\n",
       "0                               Caranavi, Bolivia   \n",
       "1             Matagalpa growing region, Nicaragua   \n",
       "2  Agaro Gera, Jimma Zone, Oromia State, Ethiopia   \n",
       "3   Yirgacheffe growing region, southern Ethiopia   \n",
       "4           La Sierra, Cauca Department, Colombia   \n",
       "\n",
       "                                               notes   roast_level  \\\n",
       "0  Produced by Angel Mamani Chambi, entirely of t...  Medium-Light   \n",
       "1  Produced by Benjamin Weiner at Finca Idealista...  Medium-Light   \n",
       "2  Ethiopia coffees like this one are largely pro...  Medium-Light   \n",
       "3  Produced at Mengesha Farm from selections of i...  Medium-Light   \n",
       "4  Produced by smallholding farmers from trees of...  Medium-Light   \n",
       "\n",
       "           city        state  usd_per_oz  \n",
       "0         Floyd     Virginia        2.50  \n",
       "1     Cleveland         Ohio       13.33  \n",
       "2     San Diego   California        2.33  \n",
       "3      Glendale   California        1.71  \n",
       "4  Harrisonburg     Virginia        2.37  "
      ]
     },
     "execution_count": 40,
     "metadata": {},
     "output_type": "execute_result"
    }
   ],
   "source": [
    "#read CSV file into a pandas DataFrame\n",
    "coffee_data = pd.read_csv(\"../final_data/final_coffee_data.csv\", index_col=0)\n",
    "coffee_data.head()"
   ]
  },
  {
   "cell_type": "code",
   "execution_count": 41,
   "metadata": {},
   "outputs": [
    {
     "data": {
      "text/plain": [
       "(2103, 14)"
      ]
     },
     "execution_count": 41,
     "metadata": {},
     "output_type": "execute_result"
    }
   ],
   "source": [
    "# check the number of rows and columns of the DataFrame\n",
    "coffee_data.shape"
   ]
  },
  {
   "cell_type": "code",
   "execution_count": 42,
   "metadata": {},
   "outputs": [
    {
     "data": {
      "text/plain": [
       "Medium-Light    1515\n",
       "Light            350\n",
       "Medium           201\n",
       "Medium-Dark       32\n",
       "Dark               5\n",
       "Name: roast_level, dtype: int64"
      ]
     },
     "execution_count": 42,
     "metadata": {},
     "output_type": "execute_result"
    }
   ],
   "source": [
    "# Count the number of each roast level\n",
    "coffee_data['roast_level'].value_counts()"
   ]
  },
  {
   "cell_type": "code",
   "execution_count": 43,
   "metadata": {},
   "outputs": [],
   "source": [
    "# The roast levels are categorized into numbers with a for loop\n",
    "for i in range(len(coffee_data)):\n",
    "    if coffee_data.loc[i, 'roast_level'] == 'Light':\n",
    "        coffee_data.loc[i, 'roast_level'] = 1\n",
    "    if coffee_data.loc[i, 'roast_level'] == 'Medium-Light':\n",
    "        coffee_data.loc[i, 'roast_level'] = 2\n",
    "    if coffee_data.loc[i, 'roast_level'] == 'Medium':\n",
    "        coffee_data.loc[i, 'roast_level'] = 3\n",
    "    if coffee_data.loc[i, 'roast_level'] == 'Medium-Dark':\n",
    "        coffee_data.loc[i, 'roast_level'] = 4\n",
    "    if coffee_data.loc[i, 'roast_level'] == 'Dark':\n",
    "        coffee_data.loc[i, 'roast_level'] = 5"
   ]
  },
  {
   "cell_type": "code",
   "execution_count": 44,
   "metadata": {},
   "outputs": [],
   "source": [
    "# The 'roast_level column is cast as an integer\n",
    "coffee_data['roast_level'] = coffee_data['roast_level'].astype(int)"
   ]
  },
  {
   "cell_type": "code",
   "execution_count": 45,
   "metadata": {},
   "outputs": [
    {
     "data": {
      "text/html": [
       "<div>\n",
       "<style scoped>\n",
       "    .dataframe tbody tr th:only-of-type {\n",
       "        vertical-align: middle;\n",
       "    }\n",
       "\n",
       "    .dataframe tbody tr th {\n",
       "        vertical-align: top;\n",
       "    }\n",
       "\n",
       "    .dataframe thead th {\n",
       "        text-align: right;\n",
       "    }\n",
       "</style>\n",
       "<table border=\"1\" class=\"dataframe\">\n",
       "  <thead>\n",
       "    <tr style=\"text-align: right;\">\n",
       "      <th></th>\n",
       "      <th>title</th>\n",
       "      <th>rating</th>\n",
       "      <th>acidity_structure</th>\n",
       "      <th>aftertaste</th>\n",
       "      <th>aroma</th>\n",
       "      <th>body</th>\n",
       "      <th>flavor</th>\n",
       "      <th>blind_assessment</th>\n",
       "      <th>coffee_origin</th>\n",
       "      <th>notes</th>\n",
       "      <th>roast_level</th>\n",
       "      <th>city</th>\n",
       "      <th>state</th>\n",
       "      <th>usd_per_oz</th>\n",
       "    </tr>\n",
       "  </thead>\n",
       "  <tbody>\n",
       "    <tr>\n",
       "      <th>0</th>\n",
       "      <td>Bolivia Manantial Gesha</td>\n",
       "      <td>93.0</td>\n",
       "      <td>9.0</td>\n",
       "      <td>8.0</td>\n",
       "      <td>9.0</td>\n",
       "      <td>8.0</td>\n",
       "      <td>9.0</td>\n",
       "      <td>Richly aromatic, floral-toned. Magnolia, cocoa...</td>\n",
       "      <td>Caranavi, Bolivia</td>\n",
       "      <td>Produced by Angel Mamani Chambi, entirely of t...</td>\n",
       "      <td>2</td>\n",
       "      <td>Floyd</td>\n",
       "      <td>Virginia</td>\n",
       "      <td>2.50</td>\n",
       "    </tr>\n",
       "    <tr>\n",
       "      <th>1</th>\n",
       "      <td>Yellow Pacamara Carbonic Maceration Nanolot</td>\n",
       "      <td>92.0</td>\n",
       "      <td>8.0</td>\n",
       "      <td>8.0</td>\n",
       "      <td>9.0</td>\n",
       "      <td>8.0</td>\n",
       "      <td>9.0</td>\n",
       "      <td>Crisply sweet-savory. White peach, hop flowers...</td>\n",
       "      <td>Matagalpa growing region, Nicaragua</td>\n",
       "      <td>Produced by Benjamin Weiner at Finca Idealista...</td>\n",
       "      <td>2</td>\n",
       "      <td>Cleveland</td>\n",
       "      <td>Ohio</td>\n",
       "      <td>13.33</td>\n",
       "    </tr>\n",
       "    <tr>\n",
       "      <th>2</th>\n",
       "      <td>Ethiopia Gera Genji Challa</td>\n",
       "      <td>94.0</td>\n",
       "      <td>9.0</td>\n",
       "      <td>8.0</td>\n",
       "      <td>9.0</td>\n",
       "      <td>9.0</td>\n",
       "      <td>9.0</td>\n",
       "      <td>Delicately aromatic, complex. Lilac, cocoa nib...</td>\n",
       "      <td>Agaro Gera, Jimma Zone, Oromia State, Ethiopia</td>\n",
       "      <td>Ethiopia coffees like this one are largely pro...</td>\n",
       "      <td>2</td>\n",
       "      <td>San Diego</td>\n",
       "      <td>California</td>\n",
       "      <td>2.33</td>\n",
       "    </tr>\n",
       "    <tr>\n",
       "      <th>3</th>\n",
       "      <td>Yirgacheffe Mengesha Natural</td>\n",
       "      <td>94.0</td>\n",
       "      <td>9.0</td>\n",
       "      <td>8.0</td>\n",
       "      <td>9.0</td>\n",
       "      <td>9.0</td>\n",
       "      <td>9.0</td>\n",
       "      <td>High-toned, fruit-driven. Boysenberry, pear, c...</td>\n",
       "      <td>Yirgacheffe growing region, southern Ethiopia</td>\n",
       "      <td>Produced at Mengesha Farm from selections of i...</td>\n",
       "      <td>2</td>\n",
       "      <td>Glendale</td>\n",
       "      <td>California</td>\n",
       "      <td>1.71</td>\n",
       "    </tr>\n",
       "    <tr>\n",
       "      <th>4</th>\n",
       "      <td>Tropical Summer Colombia La Sierra</td>\n",
       "      <td>93.0</td>\n",
       "      <td>9.0</td>\n",
       "      <td>8.0</td>\n",
       "      <td>9.0</td>\n",
       "      <td>8.0</td>\n",
       "      <td>9.0</td>\n",
       "      <td>Fruit-driven, crisply chocolaty. Goji berry, d...</td>\n",
       "      <td>La Sierra, Cauca Department, Colombia</td>\n",
       "      <td>Produced by smallholding farmers from trees of...</td>\n",
       "      <td>2</td>\n",
       "      <td>Harrisonburg</td>\n",
       "      <td>Virginia</td>\n",
       "      <td>2.37</td>\n",
       "    </tr>\n",
       "  </tbody>\n",
       "</table>\n",
       "</div>"
      ],
      "text/plain": [
       "                                         title  rating  acidity_structure  \\\n",
       "0                      Bolivia Manantial Gesha    93.0                9.0   \n",
       "1  Yellow Pacamara Carbonic Maceration Nanolot    92.0                8.0   \n",
       "2                   Ethiopia Gera Genji Challa    94.0                9.0   \n",
       "3                 Yirgacheffe Mengesha Natural    94.0                9.0   \n",
       "4           Tropical Summer Colombia La Sierra    93.0                9.0   \n",
       "\n",
       "   aftertaste  aroma  body  flavor  \\\n",
       "0         8.0    9.0   8.0     9.0   \n",
       "1         8.0    9.0   8.0     9.0   \n",
       "2         8.0    9.0   9.0     9.0   \n",
       "3         8.0    9.0   9.0     9.0   \n",
       "4         8.0    9.0   8.0     9.0   \n",
       "\n",
       "                                    blind_assessment  \\\n",
       "0  Richly aromatic, floral-toned. Magnolia, cocoa...   \n",
       "1  Crisply sweet-savory. White peach, hop flowers...   \n",
       "2  Delicately aromatic, complex. Lilac, cocoa nib...   \n",
       "3  High-toned, fruit-driven. Boysenberry, pear, c...   \n",
       "4  Fruit-driven, crisply chocolaty. Goji berry, d...   \n",
       "\n",
       "                                    coffee_origin  \\\n",
       "0                               Caranavi, Bolivia   \n",
       "1             Matagalpa growing region, Nicaragua   \n",
       "2  Agaro Gera, Jimma Zone, Oromia State, Ethiopia   \n",
       "3   Yirgacheffe growing region, southern Ethiopia   \n",
       "4           La Sierra, Cauca Department, Colombia   \n",
       "\n",
       "                                               notes  roast_level  \\\n",
       "0  Produced by Angel Mamani Chambi, entirely of t...            2   \n",
       "1  Produced by Benjamin Weiner at Finca Idealista...            2   \n",
       "2  Ethiopia coffees like this one are largely pro...            2   \n",
       "3  Produced at Mengesha Farm from selections of i...            2   \n",
       "4  Produced by smallholding farmers from trees of...            2   \n",
       "\n",
       "           city        state  usd_per_oz  \n",
       "0         Floyd     Virginia        2.50  \n",
       "1     Cleveland         Ohio       13.33  \n",
       "2     San Diego   California        2.33  \n",
       "3      Glendale   California        1.71  \n",
       "4  Harrisonburg     Virginia        2.37  "
      ]
     },
     "execution_count": 45,
     "metadata": {},
     "output_type": "execute_result"
    }
   ],
   "source": [
    "# Print coffee_data\n",
    "coffee_data.head()"
   ]
  },
  {
   "cell_type": "code",
   "execution_count": 46,
   "metadata": {},
   "outputs": [
    {
     "data": {
      "text/html": [
       "<div>\n",
       "<style scoped>\n",
       "    .dataframe tbody tr th:only-of-type {\n",
       "        vertical-align: middle;\n",
       "    }\n",
       "\n",
       "    .dataframe tbody tr th {\n",
       "        vertical-align: top;\n",
       "    }\n",
       "\n",
       "    .dataframe thead th {\n",
       "        text-align: right;\n",
       "    }\n",
       "</style>\n",
       "<table border=\"1\" class=\"dataframe\">\n",
       "  <thead>\n",
       "    <tr style=\"text-align: right;\">\n",
       "      <th></th>\n",
       "      <th>acidity_structure</th>\n",
       "      <th>aftertaste</th>\n",
       "      <th>aroma</th>\n",
       "      <th>body</th>\n",
       "      <th>flavor</th>\n",
       "      <th>roast_level</th>\n",
       "      <th>usd_per_oz</th>\n",
       "    </tr>\n",
       "  </thead>\n",
       "  <tbody>\n",
       "    <tr>\n",
       "      <th>0</th>\n",
       "      <td>9.0</td>\n",
       "      <td>8.0</td>\n",
       "      <td>9.0</td>\n",
       "      <td>8.0</td>\n",
       "      <td>9.0</td>\n",
       "      <td>2</td>\n",
       "      <td>2.50</td>\n",
       "    </tr>\n",
       "    <tr>\n",
       "      <th>1</th>\n",
       "      <td>8.0</td>\n",
       "      <td>8.0</td>\n",
       "      <td>9.0</td>\n",
       "      <td>8.0</td>\n",
       "      <td>9.0</td>\n",
       "      <td>2</td>\n",
       "      <td>13.33</td>\n",
       "    </tr>\n",
       "    <tr>\n",
       "      <th>2</th>\n",
       "      <td>9.0</td>\n",
       "      <td>8.0</td>\n",
       "      <td>9.0</td>\n",
       "      <td>9.0</td>\n",
       "      <td>9.0</td>\n",
       "      <td>2</td>\n",
       "      <td>2.33</td>\n",
       "    </tr>\n",
       "    <tr>\n",
       "      <th>3</th>\n",
       "      <td>9.0</td>\n",
       "      <td>8.0</td>\n",
       "      <td>9.0</td>\n",
       "      <td>9.0</td>\n",
       "      <td>9.0</td>\n",
       "      <td>2</td>\n",
       "      <td>1.71</td>\n",
       "    </tr>\n",
       "    <tr>\n",
       "      <th>4</th>\n",
       "      <td>9.0</td>\n",
       "      <td>8.0</td>\n",
       "      <td>9.0</td>\n",
       "      <td>8.0</td>\n",
       "      <td>9.0</td>\n",
       "      <td>2</td>\n",
       "      <td>2.37</td>\n",
       "    </tr>\n",
       "  </tbody>\n",
       "</table>\n",
       "</div>"
      ],
      "text/plain": [
       "   acidity_structure  aftertaste  aroma  body  flavor  roast_level  usd_per_oz\n",
       "0                9.0         8.0    9.0   8.0     9.0            2        2.50\n",
       "1                8.0         8.0    9.0   8.0     9.0            2       13.33\n",
       "2                9.0         8.0    9.0   9.0     9.0            2        2.33\n",
       "3                9.0         8.0    9.0   9.0     9.0            2        1.71\n",
       "4                9.0         8.0    9.0   8.0     9.0            2        2.37"
      ]
     },
     "execution_count": 46,
     "metadata": {},
     "output_type": "execute_result"
    }
   ],
   "source": [
    "# Drop the 'rating','title', 'blind_assessment', 'coffee_origin', 'notes','city','state' columns\n",
    "coffee_data = coffee_data.drop(columns=['rating','title', 'blind_assessment', 'coffee_origin', 'notes','city','state'])\n",
    "coffee_data.head()"
   ]
  },
  {
   "cell_type": "code",
   "execution_count": 47,
   "metadata": {},
   "outputs": [
    {
     "name": "stdout",
     "output_type": "stream",
     "text": [
      "<class 'pandas.core.frame.DataFrame'>\n",
      "Int64Index: 2103 entries, 0 to 2102\n",
      "Data columns (total 7 columns):\n",
      " #   Column             Non-Null Count  Dtype  \n",
      "---  ------             --------------  -----  \n",
      " 0   acidity_structure  2103 non-null   float64\n",
      " 1   aftertaste         2103 non-null   float64\n",
      " 2   aroma              2103 non-null   float64\n",
      " 3   body               2103 non-null   float64\n",
      " 4   flavor             2103 non-null   float64\n",
      " 5   roast_level        2103 non-null   int32  \n",
      " 6   usd_per_oz         2103 non-null   float64\n",
      "dtypes: float64(6), int32(1)\n",
      "memory usage: 187.8 KB\n"
     ]
    }
   ],
   "source": [
    "# Check non-null values\n",
    "coffee_data.info()"
   ]
  },
  {
   "cell_type": "code",
   "execution_count": 48,
   "metadata": {},
   "outputs": [],
   "source": [
    "# The target(X) and y are determined\n",
    "y = coffee_data['roast_level']\n",
    "X = coffee_data.drop(columns=['roast_level'])"
   ]
  },
  {
   "attachments": {},
   "cell_type": "markdown",
   "metadata": {},
   "source": [
    "## Unbalanced Trials"
   ]
  },
  {
   "cell_type": "code",
   "execution_count": 49,
   "metadata": {},
   "outputs": [],
   "source": [
    "# split the data with train_test_split\n",
    "X_train, X_test, y_train, y_test = train_test_split(X, \n",
    "                                                    y, \n",
    "                                                    random_state=1, \n",
    "                                                    stratify=y)"
   ]
  },
  {
   "cell_type": "code",
   "execution_count": 50,
   "metadata": {},
   "outputs": [],
   "source": [
    "# Create the MinMaxScaler instance\n",
    "scaler = MinMaxScaler()"
   ]
  },
  {
   "cell_type": "code",
   "execution_count": 51,
   "metadata": {},
   "outputs": [],
   "source": [
    "# Fit the MinMax Scaler with the training data\n",
    "X_scaler = scaler.fit(X_train)"
   ]
  },
  {
   "cell_type": "code",
   "execution_count": 52,
   "metadata": {},
   "outputs": [],
   "source": [
    "# Scale the training data\n",
    "X_train_scaled = X_scaler.transform(X_train)\n",
    "X_test_scaled = X_scaler.transform(X_test)"
   ]
  },
  {
   "cell_type": "code",
   "execution_count": 53,
   "metadata": {},
   "outputs": [
    {
     "data": {
      "text/plain": [
       "LogisticRegression(multi_class='multinomial', random_state=1)"
      ]
     },
     "execution_count": 53,
     "metadata": {},
     "output_type": "execute_result"
    }
   ],
   "source": [
    "# The LogisticRegression model is used for predictions\n",
    "classifier = LogisticRegression(multi_class='multinomial', solver='lbfgs', random_state=1)\n",
    "classifier"
   ]
  },
  {
   "cell_type": "code",
   "execution_count": 54,
   "metadata": {},
   "outputs": [
    {
     "data": {
      "text/plain": [
       "LogisticRegression(multi_class='multinomial', random_state=1)"
      ]
     },
     "execution_count": 54,
     "metadata": {},
     "output_type": "execute_result"
    }
   ],
   "source": [
    "# Fit the data\n",
    "classifier.fit(X_train_scaled, y_train)"
   ]
  },
  {
   "cell_type": "code",
   "execution_count": 55,
   "metadata": {},
   "outputs": [
    {
     "name": "stdout",
     "output_type": "stream",
     "text": [
      "Training Data Score: 0.7203551046290425\n",
      "Testing Data Score: 0.720532319391635\n"
     ]
    }
   ],
   "source": [
    "# Score the model\n",
    "print(f\"Training Data Score: {classifier.score(X_train_scaled, y_train)}\")\n",
    "print(f\"Testing Data Score: {classifier.score(X_test_scaled, y_test)}\")"
   ]
  },
  {
   "cell_type": "code",
   "execution_count": 56,
   "metadata": {},
   "outputs": [
    {
     "data": {
      "text/html": [
       "<div>\n",
       "<style scoped>\n",
       "    .dataframe tbody tr th:only-of-type {\n",
       "        vertical-align: middle;\n",
       "    }\n",
       "\n",
       "    .dataframe tbody tr th {\n",
       "        vertical-align: top;\n",
       "    }\n",
       "\n",
       "    .dataframe thead th {\n",
       "        text-align: right;\n",
       "    }\n",
       "</style>\n",
       "<table border=\"1\" class=\"dataframe\">\n",
       "  <thead>\n",
       "    <tr style=\"text-align: right;\">\n",
       "      <th></th>\n",
       "      <th>Prediction</th>\n",
       "      <th>Actual</th>\n",
       "    </tr>\n",
       "  </thead>\n",
       "  <tbody>\n",
       "    <tr>\n",
       "      <th>1311</th>\n",
       "      <td>2</td>\n",
       "      <td>2</td>\n",
       "    </tr>\n",
       "    <tr>\n",
       "      <th>1151</th>\n",
       "      <td>2</td>\n",
       "      <td>2</td>\n",
       "    </tr>\n",
       "    <tr>\n",
       "      <th>920</th>\n",
       "      <td>2</td>\n",
       "      <td>3</td>\n",
       "    </tr>\n",
       "    <tr>\n",
       "      <th>1076</th>\n",
       "      <td>2</td>\n",
       "      <td>1</td>\n",
       "    </tr>\n",
       "    <tr>\n",
       "      <th>1287</th>\n",
       "      <td>2</td>\n",
       "      <td>2</td>\n",
       "    </tr>\n",
       "    <tr>\n",
       "      <th>...</th>\n",
       "      <td>...</td>\n",
       "      <td>...</td>\n",
       "    </tr>\n",
       "    <tr>\n",
       "      <th>594</th>\n",
       "      <td>2</td>\n",
       "      <td>1</td>\n",
       "    </tr>\n",
       "    <tr>\n",
       "      <th>507</th>\n",
       "      <td>2</td>\n",
       "      <td>2</td>\n",
       "    </tr>\n",
       "    <tr>\n",
       "      <th>733</th>\n",
       "      <td>2</td>\n",
       "      <td>2</td>\n",
       "    </tr>\n",
       "    <tr>\n",
       "      <th>1923</th>\n",
       "      <td>2</td>\n",
       "      <td>2</td>\n",
       "    </tr>\n",
       "    <tr>\n",
       "      <th>302</th>\n",
       "      <td>2</td>\n",
       "      <td>2</td>\n",
       "    </tr>\n",
       "  </tbody>\n",
       "</table>\n",
       "<p>526 rows × 2 columns</p>\n",
       "</div>"
      ],
      "text/plain": [
       "      Prediction  Actual\n",
       "1311           2       2\n",
       "1151           2       2\n",
       "920            2       3\n",
       "1076           2       1\n",
       "1287           2       2\n",
       "...          ...     ...\n",
       "594            2       1\n",
       "507            2       2\n",
       "733            2       2\n",
       "1923           2       2\n",
       "302            2       2\n",
       "\n",
       "[526 rows x 2 columns]"
      ]
     },
     "execution_count": 56,
     "metadata": {},
     "output_type": "execute_result"
    }
   ],
   "source": [
    "# Predict outcomes for test data set\n",
    "predictions = classifier.predict(X_test_scaled)\n",
    "pd.DataFrame({\"Prediction\": predictions, \"Actual\": y_test})"
   ]
  },
  {
   "cell_type": "code",
   "execution_count": 57,
   "metadata": {},
   "outputs": [
    {
     "data": {
      "text/plain": [
       "0.720532319391635"
      ]
     },
     "execution_count": 57,
     "metadata": {},
     "output_type": "execute_result"
    }
   ],
   "source": [
    "# Display the accuracy score for the test dataset.\n",
    "accuracy_score(y_test, predictions)"
   ]
  },
  {
   "cell_type": "code",
   "execution_count": 58,
   "metadata": {},
   "outputs": [
    {
     "data": {
      "text/plain": [
       "array([[  0,  88,   0,   0,   0],\n",
       "       [  0, 379,   0,   0,   0],\n",
       "       [  0,  50,   0,   0,   0],\n",
       "       [  0,   8,   0,   0,   0],\n",
       "       [  0,   1,   0,   0,   0]], dtype=int64)"
      ]
     },
     "execution_count": 58,
     "metadata": {},
     "output_type": "execute_result"
    }
   ],
   "source": [
    "# Display the confusion matrix\n",
    "confusion_matrix(y_test, predictions)"
   ]
  },
  {
   "cell_type": "code",
   "execution_count": 59,
   "metadata": {},
   "outputs": [
    {
     "name": "stdout",
     "output_type": "stream",
     "text": [
      "              precision    recall  f1-score   support\n",
      "\n",
      "       Light       0.00      0.00      0.00        88\n",
      "Medium-Light       0.72      1.00      0.84       379\n",
      "      Medium       0.00      0.00      0.00        50\n",
      " Medium-Dark       0.00      0.00      0.00         8\n",
      "        Dark       0.00      0.00      0.00         1\n",
      "\n",
      "    accuracy                           0.72       526\n",
      "   macro avg       0.14      0.20      0.17       526\n",
      "weighted avg       0.52      0.72      0.60       526\n",
      "\n"
     ]
    },
    {
     "name": "stderr",
     "output_type": "stream",
     "text": [
      "c:\\Users\\maris\\anaconda3\\envs\\PythonData\\lib\\site-packages\\sklearn\\metrics\\_classification.py:1307: UndefinedMetricWarning: Precision and F-score are ill-defined and being set to 0.0 in labels with no predicted samples. Use `zero_division` parameter to control this behavior.\n",
      "  _warn_prf(average, modifier, msg_start, len(result))\n",
      "c:\\Users\\maris\\anaconda3\\envs\\PythonData\\lib\\site-packages\\sklearn\\metrics\\_classification.py:1307: UndefinedMetricWarning: Precision and F-score are ill-defined and being set to 0.0 in labels with no predicted samples. Use `zero_division` parameter to control this behavior.\n",
      "  _warn_prf(average, modifier, msg_start, len(result))\n",
      "c:\\Users\\maris\\anaconda3\\envs\\PythonData\\lib\\site-packages\\sklearn\\metrics\\_classification.py:1307: UndefinedMetricWarning: Precision and F-score are ill-defined and being set to 0.0 in labels with no predicted samples. Use `zero_division` parameter to control this behavior.\n",
      "  _warn_prf(average, modifier, msg_start, len(result))\n"
     ]
    }
   ],
   "source": [
    "# Print the classification report\n",
    "target_names = ['Light','Medium-Light', 'Medium', 'Medium-Dark', 'Dark']\n",
    "print(classification_report(y_test, predictions, target_names=target_names))"
   ]
  },
  {
   "attachments": {},
   "cell_type": "markdown",
   "metadata": {},
   "source": [
    "## Over Sampled Trials\n"
   ]
  },
  {
   "cell_type": "code",
   "execution_count": 60,
   "metadata": {},
   "outputs": [],
   "source": [
    "# Instantiate the random oversampler model\n",
    "# # Assign a random_state parameter of 1 to the model\n",
    "oversample = RandomOverSampler(random_state=1)\n",
    "# Fit the original training data to the random_oversampler model\n",
    "X_over, y_over = oversample.fit_resample(X, y)"
   ]
  },
  {
   "cell_type": "code",
   "execution_count": 61,
   "metadata": {},
   "outputs": [
    {
     "data": {
      "text/plain": [
       "2    1515\n",
       "1    1515\n",
       "3    1515\n",
       "4    1515\n",
       "5    1515\n",
       "Name: roast_level, dtype: int64"
      ]
     },
     "execution_count": 61,
     "metadata": {},
     "output_type": "execute_result"
    }
   ],
   "source": [
    "# Count the distinct values of the resampled labels data\n",
    "y_over.value_counts()"
   ]
  },
  {
   "cell_type": "code",
   "execution_count": 62,
   "metadata": {},
   "outputs": [],
   "source": [
    "\n",
    "# Train_test_split the data\n",
    "X_over_train, X_over_test, y_over_train, y_over_test = train_test_split(X_over, \n",
    "                                                    y_over, \n",
    "                                                    random_state=1, \n",
    "                                                    stratify=y_over)"
   ]
  },
  {
   "cell_type": "code",
   "execution_count": 63,
   "metadata": {},
   "outputs": [],
   "source": [
    "# Create the MinMaxScaler instance\n",
    "scaler = MinMaxScaler()"
   ]
  },
  {
   "cell_type": "code",
   "execution_count": 64,
   "metadata": {},
   "outputs": [],
   "source": [
    "# Fit the MinMax Scaler with the training data\n",
    "X_over_scaler = scaler.fit(X_over_train)"
   ]
  },
  {
   "cell_type": "code",
   "execution_count": 65,
   "metadata": {},
   "outputs": [],
   "source": [
    "# Scale the training data\n",
    "X_over_train_scaled = X_over_scaler.transform(X_over_train)\n",
    "X_over_test_scaled = X_over_scaler.transform(X_over_test)"
   ]
  },
  {
   "cell_type": "code",
   "execution_count": 66,
   "metadata": {},
   "outputs": [
    {
     "data": {
      "text/plain": [
       "LogisticRegression(multi_class='multinomial', random_state=1)"
      ]
     },
     "execution_count": 66,
     "metadata": {},
     "output_type": "execute_result"
    }
   ],
   "source": [
    "# Define the ML model\n",
    "logreg_over= LogisticRegression(multi_class='multinomial', solver='lbfgs', random_state=1)\n",
    "logreg_over"
   ]
  },
  {
   "cell_type": "code",
   "execution_count": 67,
   "metadata": {},
   "outputs": [
    {
     "name": "stderr",
     "output_type": "stream",
     "text": [
      "c:\\Users\\maris\\anaconda3\\envs\\PythonData\\lib\\site-packages\\sklearn\\linear_model\\_logistic.py:818: ConvergenceWarning: lbfgs failed to converge (status=1):\n",
      "STOP: TOTAL NO. of ITERATIONS REACHED LIMIT.\n",
      "\n",
      "Increase the number of iterations (max_iter) or scale the data as shown in:\n",
      "    https://scikit-learn.org/stable/modules/preprocessing.html\n",
      "Please also refer to the documentation for alternative solver options:\n",
      "    https://scikit-learn.org/stable/modules/linear_model.html#logistic-regression\n",
      "  extra_warning_msg=_LOGISTIC_SOLVER_CONVERGENCE_MSG,\n"
     ]
    },
    {
     "data": {
      "text/plain": [
       "LogisticRegression(multi_class='multinomial', random_state=1)"
      ]
     },
     "execution_count": 67,
     "metadata": {},
     "output_type": "execute_result"
    }
   ],
   "source": [
    "# Train the data\n",
    "logreg_over.fit(X_over_train_scaled, y_over_train)"
   ]
  },
  {
   "cell_type": "code",
   "execution_count": 68,
   "metadata": {},
   "outputs": [
    {
     "name": "stdout",
     "output_type": "stream",
     "text": [
      "Training Data Score: 0.4557296250660095\n",
      "Testing Data Score: 0.45406546990496305\n"
     ]
    }
   ],
   "source": [
    "# Score the model\n",
    "print(f\"Training Data Score: {logreg_over.score(X_over_train_scaled, y_over_train)}\")\n",
    "print(f\"Testing Data Score: {logreg_over.score(X_over_test_scaled, y_over_test)}\")"
   ]
  },
  {
   "cell_type": "code",
   "execution_count": 69,
   "metadata": {},
   "outputs": [
    {
     "data": {
      "text/html": [
       "<div>\n",
       "<style scoped>\n",
       "    .dataframe tbody tr th:only-of-type {\n",
       "        vertical-align: middle;\n",
       "    }\n",
       "\n",
       "    .dataframe tbody tr th {\n",
       "        vertical-align: top;\n",
       "    }\n",
       "\n",
       "    .dataframe thead th {\n",
       "        text-align: right;\n",
       "    }\n",
       "</style>\n",
       "<table border=\"1\" class=\"dataframe\">\n",
       "  <thead>\n",
       "    <tr style=\"text-align: right;\">\n",
       "      <th></th>\n",
       "      <th>Prediction</th>\n",
       "      <th>Actual</th>\n",
       "    </tr>\n",
       "  </thead>\n",
       "  <tbody>\n",
       "    <tr>\n",
       "      <th>1550</th>\n",
       "      <td>3</td>\n",
       "      <td>2</td>\n",
       "    </tr>\n",
       "    <tr>\n",
       "      <th>4664</th>\n",
       "      <td>1</td>\n",
       "      <td>4</td>\n",
       "    </tr>\n",
       "    <tr>\n",
       "      <th>75</th>\n",
       "      <td>1</td>\n",
       "      <td>2</td>\n",
       "    </tr>\n",
       "    <tr>\n",
       "      <th>5778</th>\n",
       "      <td>3</td>\n",
       "      <td>4</td>\n",
       "    </tr>\n",
       "    <tr>\n",
       "      <th>6482</th>\n",
       "      <td>5</td>\n",
       "      <td>5</td>\n",
       "    </tr>\n",
       "    <tr>\n",
       "      <th>...</th>\n",
       "      <td>...</td>\n",
       "      <td>...</td>\n",
       "    </tr>\n",
       "    <tr>\n",
       "      <th>5233</th>\n",
       "      <td>5</td>\n",
       "      <td>4</td>\n",
       "    </tr>\n",
       "    <tr>\n",
       "      <th>5671</th>\n",
       "      <td>1</td>\n",
       "      <td>4</td>\n",
       "    </tr>\n",
       "    <tr>\n",
       "      <th>1060</th>\n",
       "      <td>2</td>\n",
       "      <td>3</td>\n",
       "    </tr>\n",
       "    <tr>\n",
       "      <th>596</th>\n",
       "      <td>1</td>\n",
       "      <td>1</td>\n",
       "    </tr>\n",
       "    <tr>\n",
       "      <th>3238</th>\n",
       "      <td>1</td>\n",
       "      <td>1</td>\n",
       "    </tr>\n",
       "  </tbody>\n",
       "</table>\n",
       "<p>1894 rows × 2 columns</p>\n",
       "</div>"
      ],
      "text/plain": [
       "      Prediction  Actual\n",
       "1550           3       2\n",
       "4664           1       4\n",
       "75             1       2\n",
       "5778           3       4\n",
       "6482           5       5\n",
       "...          ...     ...\n",
       "5233           5       4\n",
       "5671           1       4\n",
       "1060           2       3\n",
       "596            1       1\n",
       "3238           1       1\n",
       "\n",
       "[1894 rows x 2 columns]"
      ]
     },
     "execution_count": 69,
     "metadata": {},
     "output_type": "execute_result"
    }
   ],
   "source": [
    "# Predict outcomes for test data set\n",
    "predictions = logreg_over.predict(X_over_test_scaled)\n",
    "pd.DataFrame({\"Prediction\": predictions, \"Actual\": y_over_test})"
   ]
  },
  {
   "cell_type": "code",
   "execution_count": 70,
   "metadata": {},
   "outputs": [
    {
     "data": {
      "text/plain": [
       "0.45406546990496305"
      ]
     },
     "execution_count": 70,
     "metadata": {},
     "output_type": "execute_result"
    }
   ],
   "source": [
    "# Display the accuracy score for the test dataset.\n",
    "accuracy_score(y_over_test, predictions)"
   ]
  },
  {
   "cell_type": "code",
   "execution_count": 71,
   "metadata": {},
   "outputs": [
    {
     "data": {
      "text/plain": [
       "array([[239,  83,  49,   3,   5],\n",
       "       [200,  73,  83,  10,  13],\n",
       "       [ 69,  75, 160,  30,  44],\n",
       "       [ 55,  26,  93,  84, 121],\n",
       "       [  0,  75,   0,   0, 304]], dtype=int64)"
      ]
     },
     "execution_count": 71,
     "metadata": {},
     "output_type": "execute_result"
    }
   ],
   "source": [
    "# Display the confusion matrix\n",
    "confusion_matrix(y_over_test, predictions)"
   ]
  },
  {
   "cell_type": "code",
   "execution_count": 72,
   "metadata": {},
   "outputs": [
    {
     "name": "stdout",
     "output_type": "stream",
     "text": [
      "              precision    recall  f1-score   support\n",
      "\n",
      "       Light       0.42      0.63      0.51       379\n",
      "Medium-Light       0.22      0.19      0.21       379\n",
      "      Medium       0.42      0.42      0.42       378\n",
      " Medium-Dark       0.66      0.22      0.33       379\n",
      "        Dark       0.62      0.80      0.70       379\n",
      "\n",
      "    accuracy                           0.45      1894\n",
      "   macro avg       0.47      0.45      0.43      1894\n",
      "weighted avg       0.47      0.45      0.43      1894\n",
      "\n"
     ]
    }
   ],
   "source": [
    "# Print the classification report\n",
    "target_names = ['Light','Medium-Light', 'Medium', 'Medium-Dark', 'Dark']\n",
    "print(classification_report(y_over_test, predictions, target_names=target_names))"
   ]
  },
  {
   "cell_type": "code",
   "execution_count": 73,
   "metadata": {},
   "outputs": [],
   "source": [
    "# Create prediction function\n",
    "def predict_roast(acidity, aftertaste, aroma, body, flavor, price):\n",
    "    input_data = [[acidity, aftertaste, aroma, body, flavor, price]]\n",
    "    roast_prediction = logreg_over.predict(input_data)[0]\n",
    "    if roast_prediction == 1:\n",
    "        return \"Light Roast\"\n",
    "    elif roast_prediction == 2:\n",
    "        return \"Medium-Light Roast\"\n",
    "    elif roast_prediction == 3:\n",
    "        return \"Medium Roast\"\n",
    "    elif roast_prediction == 4:\n",
    "        return \"Medium-Dark Roast\"\n",
    "    elif roast_prediction == 5:\n",
    "        return \"Dark Roast\"\n",
    "    else:\n",
    "        return \"Go drink some tea\"\n"
   ]
  },
  {
   "cell_type": "code",
   "execution_count": 74,
   "metadata": {},
   "outputs": [
    {
     "data": {
      "text/plain": [
       "'Medium-Dark Roast'"
      ]
     },
     "execution_count": 74,
     "metadata": {},
     "output_type": "execute_result"
    }
   ],
   "source": [
    "# Test prediction\n",
    "predict_roast(10, 10, 10, 50, 10, 800)"
   ]
  },
  {
   "cell_type": "code",
   "execution_count": 75,
   "metadata": {},
   "outputs": [],
   "source": [
    "# Save the trained model\n",
    "with open('logistic_regression_oversampled.pkl', 'wb') as f:\n",
    "    pickle.dump(logreg_over, f)"
   ]
  }
 ],
 "metadata": {
  "kernelspec": {
   "display_name": "Python 3.9.12 ('base')",
   "language": "python",
   "name": "python3"
  },
  "language_info": {
   "codemirror_mode": {
    "name": "ipython",
    "version": 3
   },
   "file_extension": ".py",
   "mimetype": "text/x-python",
   "name": "python",
   "nbconvert_exporter": "python",
   "pygments_lexer": "ipython3",
   "version": "3.7.16"
  },
  "orig_nbformat": 4,
  "vscode": {
   "interpreter": {
    "hash": "b327c3f02a55c96f0e641b3d006bf54f0d0442b9dc497968dddf32a3cf9bdc28"
   }
  }
 },
 "nbformat": 4,
 "nbformat_minor": 2
}
